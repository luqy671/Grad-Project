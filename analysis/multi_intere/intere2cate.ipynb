{
 "cells": [
  {
   "cell_type": "code",
   "execution_count": 1,
   "id": "753c8982-cf08-4e31-a3cf-0858e05e6713",
   "metadata": {},
   "outputs": [],
   "source": [
    "import numpy as np\n",
    "from collections import defaultdict\n",
    "import matplotlib.pyplot as plt # data visualization\n",
    "import seaborn as sns"
   ]
  },
  {
   "cell_type": "code",
   "execution_count": 2,
   "id": "0c8b7e6e-b765-4592-be86-29f077473d83",
   "metadata": {},
   "outputs": [],
   "source": [
    "cate2cnt = {}\n",
    "with open('../../data/book_data/book_cate_map.txt', 'r') as f:\n",
    "    for line in f:\n",
    "        conts = line.strip().split(',')\n",
    "        cate2cnt[int(conts[-2])-1] = int(conts[-1])\n",
    "cate2cnt[0] = 367982-231427+2973\n",
    "        \n",
    "item2cate = {}\n",
    "with open('../../data/book_data/book_item_cate.txt', 'r') as f:\n",
    "    for line in f:\n",
    "        conts = line.strip().split(',')\n",
    "        item2cate[int(conts[0])] = int(conts[1])-1\n",
    "\n",
    "max_cate_id = 590        "
   ]
  },
  {
   "cell_type": "code",
   "execution_count": 3,
   "id": "33d33f83-40d6-49d3-9c89-a4a0a2563e5c",
   "metadata": {},
   "outputs": [],
   "source": [
    "exp_name = 'default_2'\n",
    "\n",
    "info_path = './info/' + exp_name + '_info.txt'\n",
    "intere_cate_cnt = np.zeros([400,max_cate_id], dtype=float)\n",
    "intere_set = set()\n",
    "\n",
    "with open(info_path, 'r') as f:\n",
    "    for line in f:\n",
    "        conts = line.strip().split(',')\n",
    "        user = conts[0]\n",
    "        intere = int(conts[1])     \n",
    "        intere_set.add(intere)\n",
    "        for i in range(2,52):\n",
    "            item = int(conts[i])\n",
    "            if item in item2cate:\n",
    "                cate = item2cate[item]\n",
    "            else:\n",
    "                cate = 0\n",
    "            intere_cate_cnt[intere][cate] += 1"
   ]
  },
  {
   "cell_type": "code",
   "execution_count": 4,
   "id": "f3f0be27-a5ca-4a76-947a-27df9ddf1ff4",
   "metadata": {},
   "outputs": [
    {
     "name": "stdout",
     "output_type": "stream",
     "text": [
      "intere_num : 22\n"
     ]
    }
   ],
   "source": [
    "intere_list = list(intere_set)\n",
    "intere_num = len(intere_list)\n",
    "print('intere_num : {}'.format(intere_num))"
   ]
  },
  {
   "cell_type": "code",
   "execution_count": 5,
   "id": "2b1a424d-fe74-47c0-813e-293ca8f8f18b",
   "metadata": {
    "collapsed": true,
    "jupyter": {
     "outputs_hidden": true
    },
    "tags": []
   },
   "outputs": [
    {
     "data": {
      "text/plain": [
       "[0,\n",
       " 5,\n",
       " 6,\n",
       " 9,\n",
       " 10,\n",
       " 11,\n",
       " 140,\n",
       " 16,\n",
       " 22,\n",
       " 283,\n",
       " 47,\n",
       " 48,\n",
       " 49,\n",
       " 55,\n",
       " 65,\n",
       " 335,\n",
       " 80,\n",
       " 216,\n",
       " 224,\n",
       " 226,\n",
       " 240,\n",
       " 113]"
      ]
     },
     "execution_count": 5,
     "metadata": {},
     "output_type": "execute_result"
    }
   ],
   "source": [
    "intere_list"
   ]
  },
  {
   "cell_type": "code",
   "execution_count": 6,
   "id": "b87fa32f-4a38-4e51-b4a7-01630f0a4302",
   "metadata": {
    "tags": []
   },
   "outputs": [
    {
     "name": "stderr",
     "output_type": "stream",
     "text": [
      "/tmp/ipykernel_24591/2039366209.py:1: RuntimeWarning: invalid value encountered in true_divide\n",
      "  intere_cate_p = intere_cate_cnt/np.sum(intere_cate_cnt,axis=0,keepdims=True)\n"
     ]
    }
   ],
   "source": [
    "intere_cate_p = intere_cate_cnt/np.sum(intere_cate_cnt,axis=0,keepdims=True)"
   ]
  },
  {
   "cell_type": "code",
   "execution_count": 8,
   "id": "1dcc752a-be37-4b98-9258-e2e13239ecff",
   "metadata": {
    "collapsed": true,
    "jupyter": {
     "outputs_hidden": true
    },
    "tags": []
   },
   "outputs": [
    {
     "data": {
      "text/plain": [
       "array([0.23788693, 0.27292911, 0.2581099 , 0.24723427, 0.25475899,\n",
       "       0.26620914, 0.23486342, 0.27272727, 0.2521515 , 0.26776233,\n",
       "       0.25921569, 0.25804168, 0.26479857, 0.24512149, 0.30769231,\n",
       "       0.24502663, 0.24603462, 0.24711531, 0.24259332, 0.24164274,\n",
       "       0.24889165, 0.24353776, 0.24272491, 0.24854867, 0.26891616,\n",
       "       0.23954553, 0.25692179, 0.24089585, 0.23092477, 0.24505144,\n",
       "       0.26388181, 0.27134623, 0.24353533, 0.25915996, 0.25262763,\n",
       "       0.24181143, 0.2338403 , 0.24954288, 0.24069117, 0.26792645,\n",
       "       0.24934243, 0.23887349, 0.2881072 , 0.24614705, 0.24704145,\n",
       "       0.2658371 , 0.2811115 , 0.26511226, 0.29268293, 0.27339181,\n",
       "       0.28744939, 0.2671723 , 0.25131942, 0.24290673, 0.26663754,\n",
       "       0.25434084, 0.34520124, 0.32283465, 0.25216962, 0.340625  ,\n",
       "       0.25131079, 0.25287356, 0.24855883, 0.25597817, 0.27371795,\n",
       "       0.24103709, 0.22871425, 0.2838485 , 0.25845945, 0.26119403,\n",
       "       0.25718194, 0.24138584, 0.28614762, 0.24946876, 0.25961232,\n",
       "       0.25296566, 0.25486062, 0.27547563, 0.26217964, 0.24242424,\n",
       "       0.24974982, 0.24442715, 0.23561343, 0.26206413, 0.26480379,\n",
       "       0.2734375 , 0.25648059, 0.27586207, 0.31481481, 0.31091678,\n",
       "       0.26271186, 0.30835735, 0.25383812, 0.33333333, 0.24896019,\n",
       "       0.25097733, 0.25159845, 0.26237235, 0.25444015, 0.24613221,\n",
       "       0.25307469, 0.26174497, 0.26368054, 0.25021998, 0.28444325,\n",
       "       0.28549981, 0.26843765, 0.26217591, 0.28293413, 0.2451256 ,\n",
       "       0.26172345, 0.26396824, 0.24891549, 0.2919708 , 0.24695652,\n",
       "       0.24849145, 0.25636787, 0.25116245, 0.27805362, 0.24331707,\n",
       "       0.28339051, 0.24664879, 0.24553347, 0.2693566 , 0.26192075,\n",
       "       0.26733722, 0.23881477, 0.25102066, 0.25777033, 0.25907054,\n",
       "       0.23622872, 0.28446848, 0.27553794, 0.24066186, 0.23678447,\n",
       "       0.30864198, 0.28850488, 0.27285922, 0.2729805 , 0.25876011,\n",
       "       0.24747579, 0.24783237, 0.25215889, 0.24831868, 0.25674218,\n",
       "       0.26215945, 0.24552846, 0.27733485, 0.24336973, 0.23674912,\n",
       "       0.25519888, 0.24884663, 0.26399655, 0.25266432, 0.25019262,\n",
       "       0.26108374, 0.24347205, 0.31868132, 0.24862039, 0.24399591,\n",
       "       0.27009413, 0.25841418, 0.25593034, 0.27061204, 0.24348607,\n",
       "       0.26285714, 0.2781155 , 0.27843803, 0.24794648, 0.23915737,\n",
       "       0.25372787, 0.24690956, 0.27286209, 0.2885763 , 0.27276284,\n",
       "       0.25993205, 0.27423335, 0.30864198, 0.281893  , 0.27969349,\n",
       "       0.27851888, 0.25301205, 0.2572057 , 0.30020284, 0.23604827,\n",
       "       0.28078541, 0.25263158, 0.25651356, 0.25981721, 0.24741901,\n",
       "       0.27324152, 0.26558603, 0.29526462, 0.23809524, 0.25874317,\n",
       "       0.25299795, 0.23789765, 0.24489051, 0.24037439, 0.23547881,\n",
       "       0.26792899, 0.2691543 , 0.26472044, 0.26677459, 0.24564565,\n",
       "       0.26427061, 0.24801338, 0.28513548, 0.2675    , 0.25721785,\n",
       "       0.26111503, 0.33333333, 0.26245211, 0.26007605, 0.24631424,\n",
       "       0.28060641, 0.2763466 , 0.2484353 , 0.25232775, 0.25675676,\n",
       "       0.26419605, 0.29230769, 0.29464286, 0.25553097, 0.2720907 ,\n",
       "       0.28144629, 0.27173999, 0.30164534, 0.31154684, 0.26309118,\n",
       "       0.30654762, 0.26295698, 0.25034965, 0.26978114, 0.26420891,\n",
       "       0.26506024, 0.251048  , 0.25218477, 0.25130957, 0.29230769,\n",
       "       0.27503737, 0.29255151, 0.24769039, 0.268465  , 0.24471165,\n",
       "       0.25454545, 0.23854069, 0.26602564, 0.2600365 , 0.26148515,\n",
       "       0.31203931, 0.25445081, 0.4       , 0.28840125, 0.28658592,\n",
       "       0.24137931, 0.35514019, 0.30013387, 0.25236847, 0.25071045,\n",
       "       0.26002291, 0.26976268, 0.28181818, 0.28688525, 0.27457441,\n",
       "       0.3115942 , 0.27037075, 0.28174187, 0.31348622,        nan,\n",
       "       0.26128591, 0.24980931, 0.27881041, 0.29496403, 0.2106599 ,\n",
       "       0.328125  , 0.27906977, 0.24944624, 0.30188679, 0.26666667,\n",
       "       0.2492851 , 0.26040592, 0.27465753, 0.25656325, 0.26721386,\n",
       "       0.28289474, 0.33333333, 0.5       , 0.27887452, 0.26328502,\n",
       "       0.26256983, 0.2998713 , 0.33260632, 0.36363636, 0.25817267,\n",
       "       0.2952381 , 0.25      , 0.25025853, 0.28985507, 0.29304245,\n",
       "       0.30327869, 0.25346535, 0.27331847, 0.47368421, 0.2803532 ,\n",
       "       0.25128205, 0.33333333,        nan, 0.30594185, 0.36      ,\n",
       "       0.34736842, 0.29580314, 0.26666667, 0.28181818, 0.27340824,\n",
       "       0.26451613, 0.36170213, 0.25399495, 0.29882353, 0.25523662,\n",
       "       0.26385965, 0.26546731,        nan, 0.23117961, 0.24923547,\n",
       "       0.5       , 0.2665549 , 0.24979702, 0.26237624, 0.271777  ,\n",
       "       0.27731092, 0.25      , 0.25555556, 0.27258747, 0.31907895,\n",
       "       0.26649746, 0.26096998, 0.26078376, 0.26017493, 0.25786455,\n",
       "       0.28571429, 0.26681614, 0.26589595, 0.28837209, 0.27464789,\n",
       "       0.30102041, 0.3220339 , 0.31764706, 0.27769572, 0.26143187,\n",
       "       0.26690391, 0.27794562, 0.25135624, 0.28571429, 0.26188257,\n",
       "       0.29104478, 0.28787879, 0.25448029, 0.27      , 0.35207101,\n",
       "              nan, 0.27881041, 0.28762542, 0.25014577, 0.29885057,\n",
       "       0.26959518, 0.26666667, 0.42857143, 0.26956522,        nan,\n",
       "       0.33102156, 0.25525841, 0.33333333, 0.36363636, 0.27669346,\n",
       "              nan, 0.33333333, 0.33333333, 0.26517572, 0.26320201,\n",
       "       0.36363636, 0.29831144, 0.25204583, 0.3       , 0.26518219,\n",
       "       1.        , 0.3       ,        nan, 0.25464191, 0.24707996,\n",
       "       0.26829268, 0.33333333, 0.5       , 0.25866667, 0.28333333,\n",
       "              nan, 0.27920228, 0.29092702, 1.        , 1.        ,\n",
       "       0.30397237, 0.375     , 0.28440367, 0.3125    , 0.33333333,\n",
       "       0.28392484, 0.28084883, 0.33333333, 0.33333333, 0.35087719,\n",
       "       0.2602806 , 0.30681818, 0.28043776, 0.33333333, 0.25174825,\n",
       "       0.27631579, 0.26804124,        nan, 0.28571429, 0.28099174,\n",
       "       0.29411765, 0.31666667, 0.3125    ,        nan, 0.27620397,\n",
       "       0.25909091, 0.27179487, 0.26633166, 0.31707317, 0.36363636,\n",
       "       0.2767475 , 0.33333333, 0.27586207, 0.31578947,        nan,\n",
       "       1.        , 0.26727411, 0.42857143, 0.30927835, 0.33333333,\n",
       "       0.25227779, 0.25581395, 0.25774226, 0.30851064, 0.38461538,\n",
       "       0.25454545,        nan,        nan, 0.27586207, 0.4       ,\n",
       "       0.25319693, 0.29032258, 0.4       , 0.27777778, 0.32222222,\n",
       "       0.29333333, 0.29545455,        nan, 0.26277372, 0.32352941,\n",
       "       0.5       , 0.35714286,        nan,        nan,        nan,\n",
       "       0.28358209,        nan, 1.        , 0.27619559,        nan,\n",
       "       0.30651341, 0.30475303, 0.27226027, 0.24645892, 0.24521073,\n",
       "              nan, 0.30371204, 0.33333333,        nan, 0.33333333,\n",
       "       0.33333333, 0.25441176, 0.27272727, 0.36842105, 0.21516755,\n",
       "              nan, 0.34375   , 0.32      , 0.33333333, 0.33333333,\n",
       "              nan,        nan, 0.66666667,        nan,        nan,\n",
       "       0.33333333, 0.26865672,        nan, 0.33333333, 0.25895317,\n",
       "       0.2661597 , 0.25791855,        nan, 0.28571429, 0.29787234,\n",
       "              nan, 0.26096033,        nan,        nan, 0.5       ,\n",
       "              nan, 0.5       , 0.33333333,        nan, 0.37037037,\n",
       "       0.2       ,        nan,        nan,        nan,        nan,\n",
       "       0.25862069,        nan, 0.2811245 ,        nan,        nan,\n",
       "              nan,        nan,        nan, 0.53846154, 0.5       ,\n",
       "       0.44444444, 0.24422442, 0.25742574, 1.        , 0.38235294,\n",
       "              nan, 0.28253968,        nan, 0.5       , 0.5       ,\n",
       "       0.5       , 0.35714286,        nan, 0.28823529, 0.26666667,\n",
       "       0.32394366, 0.21532847, 0.30769231,        nan,        nan,\n",
       "       0.31707317,        nan,        nan, 0.33333333,        nan,\n",
       "       0.35416667,        nan, 0.26736111, 0.28082192,        nan,\n",
       "              nan, 1.        , 1.        , 0.31746032, 0.28395062,\n",
       "       0.25581395,        nan,        nan,        nan,        nan,\n",
       "              nan,        nan, 0.3       , 0.25454545,        nan,\n",
       "              nan,        nan,        nan, 0.375     , 0.275     ,\n",
       "              nan, 0.28625235,        nan,        nan,        nan,\n",
       "              nan,        nan, 0.25      , 0.26666667, 0.34482759])"
      ]
     },
     "execution_count": 8,
     "metadata": {},
     "output_type": "execute_result"
    }
   ],
   "source": [
    "np.max(intere_cate_p,axis=0)"
   ]
  },
  {
   "cell_type": "markdown",
   "id": "64a93607-aff7-4e57-b398-912a50a2b48c",
   "metadata": {
    "tags": []
   },
   "source": [
    "### 不考虑类别总量"
   ]
  },
  {
   "cell_type": "code",
   "execution_count": 6,
   "id": "84fb41c1-b261-4da4-92da-2f34284489de",
   "metadata": {},
   "outputs": [
    {
     "data": {
      "image/png": "[encoded data removed]",
      "text/plain": [
       "<Figure size 1008x576 with 2 Axes>"
      ]
     },
     "metadata": {
      "needs_background": "light"
     },
     "output_type": "display_data"
    }
   ],
   "source": [
    "draw_info = intere_cate_cnt[intere_list]\n",
    "for i in range(intere_num):\n",
    "    draw_info[i][0]=0\n",
    "draw_info /= np.sum(draw_info, axis=1, keepdims = True)\n",
    "max_num = np.max(draw_info)\n",
    "plt.figure(figsize=(14, 8))# 定义输出图像大小\n",
    "#annot参数决定是否在热力图上显示数值Vmax,Vmin表示最大最小值，cmap表示颜色\n",
    "sns.heatmap(draw_info, fmt='.0f', annot=False, vmin=0, vmax=max_num,\n",
    "            cmap='Reds')#, yticklabels=y_label, xticklabels=x_label)\n",
    "plt.show()"
   ]
  },
  {
   "cell_type": "markdown",
   "id": "127d6900-0522-4012-9050-7810a8eb6bce",
   "metadata": {},
   "source": [
    "### 考虑每个类别的总量"
   ]
  },
  {
   "cell_type": "code",
   "execution_count": 7,
   "id": "24917a6e-c890-4c8f-a1ea-0088be4e44ef",
   "metadata": {},
   "outputs": [],
   "source": [
    "draw_info = intere_cate_cnt[intere_list]\n",
    "for i in range(intere_num):\n",
    "    draw_info[i][0]=0\n",
    "for i in range(intere_num):\n",
    "    for j in range(590):\n",
    "        draw_info[i][j] /= cate2cnt[j]"
   ]
  },
  {
   "cell_type": "code",
   "execution_count": 8,
   "id": "28ed69c9-55d0-4fca-b409-e625a073e495",
   "metadata": {},
   "outputs": [],
   "source": [
    "draw_info /= np.sum(draw_info, axis=1, keepdims = True)\n",
    "max_num = np.max(draw_info)"
   ]
  },
  {
   "cell_type": "code",
   "execution_count": 10,
   "id": "c6f33c4c-fb49-4f27-b013-7932dde4ff92",
   "metadata": {},
   "outputs": [
    {
     "data": {
      "image/png": "[encoded data removed]",
      "text/plain": [
       "<Figure size 1008x576 with 2 Axes>"
      ]
     },
     "metadata": {
      "needs_background": "light"
     },
     "output_type": "display_data"
    }
   ],
   "source": [
    "plt.figure(figsize=(14, 8))# 定义输出图像大小\n",
    "#annot参数决定是否在热力图上显示数值Vmax,Vmin表示最大最小值，cmap表示颜色\n",
    "sns.heatmap(draw_info, fmt='.0f', annot=False, vmin=0, vmax=max_num,\n",
    "            cmap='Reds')#, yticklabels=y_label, xticklabels=x_label)\n",
    "#plt.savefig('./img/{}.png'.format(exp_name))\n",
    "plt.show()"
   ]
  },
  {
   "cell_type": "code",
   "execution_count": null,
   "id": "52934f8e-9f20-4df0-87b3-303326c1649f",
   "metadata": {},
   "outputs": [],
   "source": []
  }
 ],
 "metadata": {
  "kernelspec": {
   "display_name": "Python 3 (ipykernel)",
   "language": "python",
   "name": "python3"
  },
  "language_info": {
   "codemirror_mode": {
    "name": "ipython",
    "version": 3
   },
   "file_extension": ".py",
   "mimetype": "text/x-python",
   "name": "python",
   "nbconvert_exporter": "python",
   "pygments_lexer": "ipython3",
   "version": "3.8.13"
  }
 },
 "nbformat": 4,
 "nbformat_minor": 5
}
