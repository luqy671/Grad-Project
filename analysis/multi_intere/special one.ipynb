{
 "cells": [
  {
   "cell_type": "code",
   "execution_count": 1,
   "id": "35689155-7a58-4113-8dec-006efdb21535",
   "metadata": {},
   "outputs": [],
   "source": [
    "import numpy as np\n",
    "from collections import defaultdict"
   ]
  },
  {
   "cell_type": "markdown",
   "id": "3fc02a92-685e-4cd4-837f-d49b1f912fee",
   "metadata": {},
   "source": [
    "## 数据准备"
   ]
  },
  {
   "cell_type": "code",
   "execution_count": 2,
   "id": "fe970eac-6dd4-415d-94d0-b0154cf955c8",
   "metadata": {},
   "outputs": [],
   "source": [
    "item2cate = {}\n",
    "with open('../../data/book_data/book_item_cate.txt', 'r') as f:\n",
    "    for line in f:\n",
    "        conts = line.strip().split(',')\n",
    "        item2cate[conts[0]] = conts[1]\n",
    "id2asin = {}\n",
    "book_list = set()\n",
    "with open('../../data/book_data/book_item_map.txt', 'r') as f:\n",
    "    for line in f:\n",
    "        conts = line.strip().split(',')\n",
    "        id2asin[conts[1]] = conts[0]\n",
    "        book_list.add(conts[0])\n",
    "id2cate = {}\n",
    "with open('../../data/book_data/book_cate_map.txt', 'r') as f:\n",
    "    for line in f:\n",
    "        conts = line.strip().split(',')\n",
    "        id2cate[conts[-2]] = conts[-3]"
   ]
  },
  {
   "cell_type": "code",
   "execution_count": 3,
   "id": "391a9702-81c7-4c18-88eb-8dca08d78ba6",
   "metadata": {},
   "outputs": [],
   "source": [
    "bookinfo = defaultdict(dict)\n",
    "with open('../../../meta_Books.json', 'r') as f:\n",
    "    for line in f:\n",
    "        r = eval(line.strip())\n",
    "        asin = r['asin'] \n",
    "        if asin not in book_list:\n",
    "            continue\n",
    "        bookinfo[asin]['title'] = r['title']\n",
    "        if len(r['category'])>0:\n",
    "            bookinfo[asin]['cate'] = r['category'][-1]"
   ]
  },
  {
   "cell_type": "markdown",
   "id": "18363c29-794e-44ae-a3ef-14de93f92027",
   "metadata": {},
   "source": [
    "## 筛选"
   ]
  },
  {
   "cell_type": "code",
   "execution_count": 73,
   "id": "2469ca22-77f1-4e05-a69e-a5918c0b06d1",
   "metadata": {},
   "outputs": [],
   "source": [
    "exp_name = 'default_7'\n",
    "info_path = './info/' + exp_name + '_info.txt'\n",
    "\n",
    "users = set()\n",
    "user2intere = defaultdict(list)\n",
    "user2cate = defaultdict(dict)\n",
    "user2item = defaultdict(dict)\n",
    "\n",
    "with open(info_path, 'r') as f:\n",
    "    for line in f:\n",
    "        conts = line.strip().split(',')\n",
    "        user = conts[0]\n",
    "        intere = conts[1]\n",
    "        users.add(user)\n",
    "        user2intere[user].append(intere)\n",
    "        user2cate[user][intere] = set()\n",
    "        user2item[user][intere] = []\n",
    "        for i in range(2,52):\n",
    "            item = conts[i]\n",
    "            if item in item2cate:\n",
    "                cate = item2cate[item]\n",
    "            else:\n",
    "                cate = '1'\n",
    "            if cate != '1':\n",
    "                user2cate[user][intere].add(cate)\n",
    "                user2item[user][intere].append((id2asin[item],id2cate[cate]))"
   ]
  },
  {
   "cell_type": "code",
   "execution_count": 74,
   "id": "066e1687-9413-4657-9ae4-b6aa44a149f8",
   "metadata": {},
   "outputs": [],
   "source": [
    "num = len(users)\n",
    "score = dict()\n",
    "for u in users:\n",
    "    sco = 0\n",
    "    for j in range(4):\n",
    "        intere1 = user2intere[u][j]\n",
    "        for k in range(j+1,4):\n",
    "            intere2= user2intere[u][k]\n",
    "            set1 = user2cate[u][intere1]\n",
    "            set2 = user2cate[u][intere2]\n",
    "            sco += len(set1&set2)/(len(set1)+len(set2))\n",
    "    score[u] = sco"
   ]
  },
  {
   "cell_type": "code",
   "execution_count": 75,
   "id": "0dc499b3-712a-4aa4-a487-b502b321cfd8",
   "metadata": {},
   "outputs": [],
   "source": [
    "candidates = sorted(score.items(),key = lambda x:x[1],reverse = False)\n",
    "i=0"
   ]
  },
  {
   "cell_type": "code",
   "execution_count": 88,
   "id": "0202914e-fd46-4415-95ee-2a8811fd4fb9",
   "metadata": {
    "collapsed": true,
    "jupyter": {
     "outputs_hidden": true
    },
    "tags": []
   },
   "outputs": [
    {
     "name": "stdout",
     "output_type": "stream",
     "text": [
      "9\n"
     ]
    },
    {
     "data": {
      "text/plain": [
       "{'17': [('159448256X', ' Research &amp; Publishing Guides'),\n",
       "  ('1573240648', 'Behavioral Sciences'),\n",
       "  ('0692200770', 'Contemporary'),\n",
       "  ('1492206776', 'Dramas & Plays'),\n",
       "  ('1493761005', 'Erotica'),\n",
       "  ('B00COTRYHW', 'Genre Fiction'),\n",
       "  ('1455583650', 'Genre Fiction'),\n",
       "  ('0761536957', 'Higher &amp; Continuing Education'),\n",
       "  ('1602826706', 'Literature &amp; Fiction'),\n",
       "  ('3540224947', 'Mathematics'),\n",
       "  ('1617130079', 'Music'),\n",
       "  ('160163059X', 'Occult & Paranormal'),\n",
       "  ('1451684568', 'Performing Arts'),\n",
       "  ('149293304X', 'Personal Finance'),\n",
       "  ('0812981561', 'Philosophy'),\n",
       "  ('0615782043', 'Poetry'),\n",
       "  ('158367182X', 'Politics & Government'),\n",
       "  ('1430242337', 'Programming'),\n",
       "  ('1560974109', 'Publishers'),\n",
       "  ('1476716455', 'Schools &amp; Teaching'),\n",
       "  ('1469732459', 'Short Stories &amp; Anthologies'),\n",
       "  ('0307986497', 'World')],\n",
       " '63': [('0307278824', ' Instruments &amp; Measurement'),\n",
       "  ('0061977969', 'Action &amp; Adventure'),\n",
       "  ('0062011847', 'Action &amp; Adventure'),\n",
       "  ('1936493527', 'Beverages &amp; Wine'),\n",
       "  ('0002247399', 'Fantasy'),\n",
       "  ('039915678X', 'Fantasy'),\n",
       "  ('0007447868', 'Fantasy'),\n",
       "  ('0062270486', 'Genre Fiction'),\n",
       "  ('0399159207', 'Genre Fiction'),\n",
       "  ('1595825614', 'Graphic Novels'),\n",
       "  ('1423166310', 'Growing Up &amp; Facts of Life'),\n",
       "  ('030788743X', 'Humor'),\n",
       "  ('038553826X', 'Humor'),\n",
       "  ('055358894X', 'Humor'),\n",
       "  ('0142421952', 'Literature & Fiction'),\n",
       "  ('0691154821', 'Nature &amp; Ecology'),\n",
       "  ('1442369671', 'Politics & Government'),\n",
       "  ('1781161682', 'Television')],\n",
       " '369': [('1599290138', 'Crafts &amp; Hobbies'),\n",
       "  ('1401242340', 'Graphic Novels'),\n",
       "  ('1401236804', 'Graphic Novels'),\n",
       "  ('1401237053', 'Graphic Novels'),\n",
       "  ('1401237126', 'Graphic Novels'),\n",
       "  ('1401237770', 'Graphic Novels'),\n",
       "  ('1401234860', 'Graphic Novels'),\n",
       "  ('1401238343', 'Graphic Novels'),\n",
       "  ('1401237649', 'Graphic Novels'),\n",
       "  ('1401238009', 'Graphic Novels'),\n",
       "  ('1401235441', 'Graphic Novels'),\n",
       "  ('1401234755', 'Graphic Novels'),\n",
       "  ('1401234682', 'Graphic Novels'),\n",
       "  ('1401241018', 'Graphic Novels'),\n",
       "  ('1401236987', 'Graphic Novels'),\n",
       "  ('1401237010', 'Graphic Novels'),\n",
       "  ('1401234879', 'Graphic Novels'),\n",
       "  ('1401235530', 'Graphic Novels'),\n",
       "  ('1401204546', 'Graphic Novels'),\n",
       "  ('1401242448', 'Graphic Novels'),\n",
       "  ('0785156771', 'Graphic Novels'),\n",
       "  ('1401222811', 'Graphic Novels'),\n",
       "  ('1595829318', 'Graphic Novels'),\n",
       "  ('0785167048', 'Graphic Novels'),\n",
       "  ('1401232132', 'Graphic Novels'),\n",
       "  ('1401234666', 'Graphic Novels'),\n",
       "  ('1401242359', 'Graphic Novels'),\n",
       "  ('140124016X', 'Graphic Novels'),\n",
       "  ('1401204589', 'Graphic Novels'),\n",
       "  ('1401237746', 'Graphic Novels'),\n",
       "  ('1401235360', 'Graphic Novels'),\n",
       "  ('0785114823', 'Literature &amp; Fiction'),\n",
       "  ('1419703692', 'Movies'),\n",
       "  ('193727800X', 'Thrillers & Suspense')],\n",
       " '0': [('1250018285', 'Baking'),\n",
       "  ('1933615982', 'Beverages & Wine'),\n",
       "  ('1936493527', 'Beverages &amp; Wine'),\n",
       "  ('0800629914', 'Bible Study &amp; Reference'),\n",
       "  ('141430191X', 'Christian Living'),\n",
       "  ('0307396444', 'Cooking Education &amp; Reference'),\n",
       "  ('1579653774', 'Cooking Methods'),\n",
       "  ('1580176828', 'Cooking Methods'),\n",
       "  ('1558322035', 'Cooking by Ingredient'),\n",
       "  ('1591862027', 'Gardening &amp; Landscape Design'),\n",
       "  ('160358031X', 'Gardening &amp; Landscape Design'),\n",
       "  ('1607745100', 'History &amp; Criticism'),\n",
       "  ('1609619366', 'Home Improvement & Design'),\n",
       "  ('158761345X', 'Home Improvement & Design'),\n",
       "  ('1607745518', 'Home Improvement &amp; Design'),\n",
       "  ('1439190275', 'Home Improvement &amp; Design'),\n",
       "  ('1936493411', 'Kitchen Appliances'),\n",
       "  ('1934193798', 'Kitchen Appliances'),\n",
       "  ('1936493578', 'Kitchen Appliances'),\n",
       "  ('1933615699', 'Kitchen Appliances'),\n",
       "  ('0764597264', 'Kitchen Appliances'),\n",
       "  ('0399157840', 'Mystery'),\n",
       "  ('0817439390', 'Photography & Video'),\n",
       "  ('1933615893', 'Regional & International'),\n",
       "  ('1933615990', 'Regional & International'),\n",
       "  ('0345536630', 'Regional &amp; International'),\n",
       "  ('0345528530', 'Regional &amp; International'),\n",
       "  ('0547232799', 'Regional &amp; International'),\n",
       "  ('0061997188', 'Regional &amp; International'),\n",
       "  ('0385346050', 'Regional &amp; International'),\n",
       "  ('1584797959', 'Regional &amp; International'),\n",
       "  ('0061997161', 'Relationships'),\n",
       "  ('1936608375', 'Special Diet'),\n",
       "  ('193649342X', 'Special Diet'),\n",
       "  ('0982565844', 'Special Diet'),\n",
       "  ('1455522716', 'Special Diet'),\n",
       "  ('1936608367', 'Special Diet'),\n",
       "  ('1781161682', 'Television'),\n",
       "  ('1936608642', \"Women's Health\")]}"
      ]
     },
     "execution_count": 88,
     "metadata": {},
     "output_type": "execute_result"
    }
   ],
   "source": [
    "u = candidates[i][0]\n",
    "for k, v in user2item[u].items():\n",
    "    user2item[u][k]=sorted(v,key=lambda v:v[1])\n",
    "print(i)\n",
    "i += 1\n",
    "user2item[u]"
   ]
  },
  {
   "cell_type": "markdown",
   "id": "53dcc78e-9169-4ea8-a595-38d98ddce441",
   "metadata": {},
   "source": [
    "## 存入信息"
   ]
  },
  {
   "cell_type": "code",
   "execution_count": 80,
   "id": "6f57638f-ac7d-49e8-ad48-7a5ba69f8732",
   "metadata": {},
   "outputs": [],
   "source": [
    "final_info = []\n",
    "for k,v in user2item[u].items():\n",
    "    final_info.append([(x[0], bookinfo[x[0]]['cate'], bookinfo[x[0]]['title']) for x in v])"
   ]
  },
  {
   "cell_type": "code",
   "execution_count": 81,
   "id": "01baab34-e660-4134-983a-ea005282aa7a",
   "metadata": {},
   "outputs": [],
   "source": [
    "import csv  \n",
    "with open('./result/{}_{}.csv'.format(exp_name,u), 'w', encoding='UTF8', newline='') as f:\n",
    "    writer = csv.writer(f)\n",
    "    writer.writerow(['asin', 'cate', 'title'])\n",
    "    for a_list in final_info:\n",
    "        for asin, cate, title in a_list:\n",
    "            writer.writerow([asin, cate, title])\n",
    "        writer.writerow(['*'])"
   ]
  },
  {
   "cell_type": "code",
   "execution_count": 82,
   "id": "d14c9dd1-3392-492c-a76a-2ff0dfef8394",
   "metadata": {},
   "outputs": [
    {
     "data": {
      "text/plain": [
       "'default_6_586878.csv'"
      ]
     },
     "execution_count": 82,
     "metadata": {},
     "output_type": "execute_result"
    }
   ],
   "source": [
    "'{}_{}.csv'.format(exp_name,u)"
   ]
  },
  {
   "cell_type": "code",
   "execution_count": null,
   "id": "72d42b99-12e5-4e31-8972-c239a3ab152d",
   "metadata": {},
   "outputs": [],
   "source": []
  }
 ],
 "metadata": {
  "kernelspec": {
   "display_name": "Python 3 (ipykernel)",
   "language": "python",
   "name": "python3"
  },
  "language_info": {
   "codemirror_mode": {
    "name": "ipython",
    "version": 3
   },
   "file_extension": ".py",
   "mimetype": "text/x-python",
   "name": "python",
   "nbconvert_exporter": "python",
   "pygments_lexer": "ipython3",
   "version": "3.8.13"
  }
 },
 "nbformat": 4,
 "nbformat_minor": 5
}
